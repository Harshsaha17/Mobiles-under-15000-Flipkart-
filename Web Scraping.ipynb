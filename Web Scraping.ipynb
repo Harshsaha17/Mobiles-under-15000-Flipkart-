{
 "cells": [
  {
   "cell_type": "code",
   "execution_count": null,
   "id": "d91a7e9b",
   "metadata": {},
   "outputs": [],
   "source": [
    "# Web Scraping By Harsh Saha"
   ]
  },
  {
   "cell_type": "code",
   "execution_count": 16,
   "id": "f903dabf",
   "metadata": {},
   "outputs": [],
   "source": [
    "import pandas as pd\n",
    "import requests\n",
    "from bs4 import BeautifulSoup\n",
    "\n",
    "Product_name = []\n",
    "Prices = []\n",
    "Description = []\n"
   ]
  },
  {
   "cell_type": "code",
   "execution_count": 17,
   "id": "eb887d45",
   "metadata": {},
   "outputs": [
    {
     "name": "stdout",
     "output_type": "stream",
     "text": [
      "                                         Product Names   Prices  \\\n",
      "0               SAMSUNG Galaxy F04 (Opal Green, 64 GB)   ₹7,299   \n",
      "1          SAMSUNG Galaxy F13 (Waterfall Blue, 128 GB)  ₹10,699   \n",
      "2           SAMSUNG Galaxy F13 (Waterfall Blue, 64 GB)   ₹9,699   \n",
      "3          SAMSUNG Galaxy F13 (Nightsky Green, 128 GB)  ₹10,699   \n",
      "4                  MOTOROLA G32 (Mineral Gray, 128 GB)  ₹11,999   \n",
      "..                                                 ...      ...   \n",
      "235                 Tecno Camon 19 (Eco Black, 128 GB)  ₹13,985   \n",
      "236                realme Narzo 50 (Speed Blue, 64 GB)  ₹11,790   \n",
      "237                     realme C21 (Cross Blue, 64 GB)  ₹10,499   \n",
      "238  IQOO Z6 Lite 5G (Without Charger) (Stellar Gre...  ₹14,290   \n",
      "239                       Nokia G11 Plus (Blue, 64 GB)  ₹13,999   \n",
      "\n",
      "                                           Description Ratings  \n",
      "0    4 GB RAM | 64 GB ROM | Expandable Upto 1 TB16....     4.2  \n",
      "1    4 GB RAM | 128 GB ROM | Expandable Upto 1 TB16...     4.3  \n",
      "2    4 GB RAM | 64 GB ROM | Expandable Upto 1 TB16....     4.3  \n",
      "3    4 GB RAM | 128 GB ROM | Expandable Upto 1 TB16...     4.3  \n",
      "4    8 GB RAM | 128 GB ROM16.64 cm (6.55 inch) Full...     4.1  \n",
      "..                                                 ...     ...  \n",
      "235  6 GB RAM | 128 GB ROM | Expandable Upto 512 GB...     4.2  \n",
      "236  4 GB RAM | 64 GB ROM | Expandable Upto 256 GB1...     4.4  \n",
      "237  4 GB RAM | 64 GB ROM | Expandable Upto 256 GB1...     4.4  \n",
      "238  4 GB RAM | 64 GB ROM16.97 cm (6.68 inch) Displ...     4.2  \n",
      "239  4 GB RAM | 64 GB ROM16.55 cm (6.517 inch) HD+ ...     3.7  \n",
      "\n",
      "[240 rows x 4 columns]\n"
     ]
    }
   ],
   "source": [
    "for i in range (1,11):\n",
    "    url ='https://www.flipkart.com/search?q=Mobiles+under+15000&otracker=search&otracker1=search&marketplace=FLIPKART&as-show=on&as=off&page=' + str(i)\n",
    "    r= requests.get(url)\n",
    "    \n",
    "    soup= BeautifulSoup(r.text,'lxml')\n",
    "    box= soup.find('div', class_ ='_1YokD2 _3Mn1Gg')\n",
    "    \n",
    "    names=box.find_all('div', class_=\"_4rR01T\")\n",
    "    for i in names:\n",
    "        name=i.text\n",
    "        Product_name.append(name)\n",
    "    \n",
    "    rate = box.find_all('div', class_=\"_30jeq3 _1_WHN1\")\n",
    "    for i in rate:\n",
    "        price=i.text\n",
    "        Prices.append(price)\n",
    "    desc = box.find_all('ul', class_=\"_1xgFaf\")\n",
    "    for i in desc:\n",
    "        des=i.text\n",
    "        Description.append(des)\n",
    "    ratings = box.find_all('div', class_=\"_3LWZlK\")\n",
    "    \n",
    "    for j, mobile in enumerate(names):\n",
    "        if j < len(ratings):\n",
    "            r = ratings[j].text.strip()\n",
    "            if r == '':\n",
    "                r = 'No Rating'\n",
    "        else:\n",
    "            r = 'No Rating'\n",
    "        Ratings.append(r)\n",
    "        \n",
    "df=pd.DataFrame({\"Product Names\":Product_name, \"Prices\":Prices, \"Description\":Description, \"Ratings\":Ratings})\n",
    "print(df)\n",
    "               "
   ]
  },
  {
   "cell_type": "code",
   "execution_count": 18,
   "id": "8b2d0e7f",
   "metadata": {},
   "outputs": [],
   "source": [
    "df.to_csv('C:/Users/VISHAL/Desktop/21 Days ( 9 june - 30 june)/Tech/Projects/Python proj/BS4/mobiles_under15000.csv')"
   ]
  },
  {
   "cell_type": "code",
   "execution_count": null,
   "id": "0d8572d5",
   "metadata": {},
   "outputs": [],
   "source": []
  }
 ],
 "metadata": {
  "kernelspec": {
   "display_name": "Python 3 (ipykernel)",
   "language": "python",
   "name": "python3"
  },
  "language_info": {
   "codemirror_mode": {
    "name": "ipython",
    "version": 3
   },
   "file_extension": ".py",
   "mimetype": "text/x-python",
   "name": "python",
   "nbconvert_exporter": "python",
   "pygments_lexer": "ipython3",
   "version": "3.10.6"
  }
 },
 "nbformat": 4,
 "nbformat_minor": 5
}
